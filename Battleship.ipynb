{
 "cells": [
  {
   "cell_type": "markdown",
   "metadata": {},
   "source": [
    "## Battleship Game"
   ]
  },
  {
   "cell_type": "markdown",
   "metadata": {},
   "source": [
    "Coding exercise of a mini game. A ship is hidden randomly on a 5X5 board. You have 5 turns to key in rows and columns to sink it!"
   ]
  },
  {
   "cell_type": "code",
   "execution_count": 3,
   "metadata": {},
   "outputs": [
    {
     "name": "stdout",
     "output_type": "stream",
     "text": [
      "O O O O O\n",
      "O O O O O\n",
      "O O O O O\n",
      "O O O O O\n",
      "O O O O O\n",
      "Turn 1\n",
      "O O O O O\n",
      "O O O O O\n",
      "O O O O O\n",
      "O O O O O\n",
      "O O O O O\n",
      "Guess Row: 3\n",
      "Guess Col: 3\n",
      "Congratulations! You sunk my battleship!\n"
     ]
    }
   ],
   "source": [
    "from random import randint\n",
    "\n",
    "board = []\n",
    "\n",
    "for x in range(5):\n",
    "    board.append([\"O\"] * 5)\n",
    "\n",
    "def print_board(board):\n",
    "    for row in board:\n",
    "        print(\" \".join(row))\n",
    "\n",
    "print_board(board)\n",
    "\n",
    "def random_row(board):\n",
    "    return randint(0, len(board) - 1)\n",
    "\n",
    "def random_col(board):\n",
    "    return randint(0, len(board[0]) - 1)\n",
    "\n",
    "ship_row = random_row(board)\n",
    "ship_col = random_col(board)\n",
    "\n",
    "# Everything from here on should go in your for loop!\n",
    "# Be sure to indent four spaces!\n",
    "for turn in range(5):\n",
    "    print(\"Turn\", turn + 1)\n",
    "    print_board(board)\n",
    "    guess_row = int(input(\"Guess Row: \"))\n",
    "    guess_col = int(input(\"Guess Col: \"))\n",
    "\n",
    "    if guess_row == ship_row and guess_col == ship_col:\n",
    "        print(\"Congratulations! You sunk my battleship!\")\n",
    "        break\n",
    "    else:\n",
    "        if (guess_row < 0 or guess_row > 4) or (guess_col < 0 or guess_col > 4):\n",
    "            print(\"Oops, that's not even in the ocean.\")\n",
    "        elif(board[guess_row][guess_col] == \"X\"):\n",
    "            print(\"You guessed that one already.\")\n",
    "        else:\n",
    "            print(\"You missed my battleship!\")\n",
    "            board[guess_row][guess_col] = \"X\"\n",
    "        if turn == 4:\n",
    "            print(\"Game Over\")\n",
    "\n"
   ]
  },
  {
   "cell_type": "code",
   "execution_count": null,
   "metadata": {},
   "outputs": [],
   "source": []
  },
  {
   "cell_type": "code",
   "execution_count": null,
   "metadata": {},
   "outputs": [],
   "source": []
  }
 ],
 "metadata": {
  "kernelspec": {
   "display_name": "Python 3",
   "language": "python",
   "name": "python3"
  },
  "language_info": {
   "codemirror_mode": {
    "name": "ipython",
    "version": 3
   },
   "file_extension": ".py",
   "mimetype": "text/x-python",
   "name": "python",
   "nbconvert_exporter": "python",
   "pygments_lexer": "ipython3",
   "version": "3.7.3"
  }
 },
 "nbformat": 4,
 "nbformat_minor": 2
}
