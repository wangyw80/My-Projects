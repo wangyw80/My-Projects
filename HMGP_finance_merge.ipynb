{
 "cells": [
  {
   "cell_type": "markdown",
   "id": "66231433",
   "metadata": {},
   "source": [
    "# HMGP Finance Merge\n",
    "The goal of this notebook is to merge the HMGP_ACS data with city finance data by city, county fips, and year. It might be fuzzy due to issues with city names, but the goal should be to merge around 2/3 of the available data."
   ]
  },
  {
   "cell_type": "code",
   "execution_count": 3,
   "id": "c54c0b8d",
   "metadata": {},
   "outputs": [],
   "source": [
    "# importing necessary packages\n",
    "\n",
    "import numpy as np\n",
    "import matplotlib.pyplot as plt\n",
    "import pandas as pd\n",
    "import os\n",
    "from tqdm import tqdm\n",
    "import scipy.stats as stats\n"
   ]
  },
  {
   "cell_type": "markdown",
   "id": "f343c164",
   "metadata": {},
   "source": [
    "## Downloading and Inspecting HMGP and Finance Data\n",
    "The next few cells will read and inspect the files to make sure they are mergeable."
   ]
  },
  {
   "cell_type": "code",
   "execution_count": 4,
   "id": "2b4d0709",
   "metadata": {},
   "outputs": [],
   "source": [
    "# reading the separate files\n",
    "\n",
    "# HMGP_ACS file\n",
    "HMGP_ACS = pd.read_csv(r'HMGP_ACS.csv')\n",
    "\n",
    "# city finance file\n",
    "finance = pd.read_csv(r'city finance.csv')\n"
   ]
  },
  {
   "cell_type": "code",
   "execution_count": 7,
   "id": "52e0c895",
   "metadata": {},
   "outputs": [
    {
     "name": "stdout",
     "output_type": "stream",
     "text": [
      "Num matches in HMGP_ACS: 499607\n",
      "Num matches in finance: 355380\n"
     ]
    }
   ],
   "source": [
    "# Checking pure city matches (not considering countyfips or year)\n",
    "\n",
    "print(f'Num matches in HMGP_ACS: {len(HMGP_ACS.loc[HMGP_ACS[\"city\"].isin(finance.city.values),:])}')\n",
    "print(f'Num matches in finance: {len(finance.loc[finance[\"city\"].isin(HMGP_ACS.city.values),:])}')\n"
   ]
  },
  {
   "cell_type": "code",
   "execution_count": null,
   "id": "b9c1b5c7",
   "metadata": {},
   "outputs": [],
   "source": [
    "# percentage of cities from city finance dataset that match with HMGP_ACS\n",
    "\n",
    "print(f'Pct:',len(finance.loc[(finance[\"year\"].isin(HMGP_ACS.year.values))\\\n",
    "     &(finance[\"countyfips\"].isin(HMGP_ACS.countyfips.values))&\\\n",
    "     (finance[\"city\"].isin(HMGP_ACS.city.values)),:])/len(finance))\n"
   ]
  },
  {
   "cell_type": "code",
   "execution_count": null,
   "id": "72eb91b7",
   "metadata": {},
   "outputs": [],
   "source": [
    "# 1 sample t-test of percentage of cities in each state\n",
    "\n",
    "# total states in city finance dataset\n",
    "print(f'# of states: {len(np.unique(finance.statefips.values))}\\n')\n",
    "\n",
    "# creating the percentages for each state\n",
    "pct_states = {}\n",
    "for state in np.unique(finance.statefips.values):\n",
    "    pct_states[state] = len(finance.loc[(~finance[\"city\"].isin(HMGP_ACS.\\\n",
    "                       city.values))&(finance[\"statefips\"] == state),:])\\\n",
    "                       /len(finance.loc[(~finance[\"city\"].isin(HMGP_ACS.\\\n",
    "                       city.values)),:])\n",
    "print(f'Mean pct: {np.mean(list(pct_states.values()))*100}\\n'\n",
    "      f'Predicted pct: {(1/51)*100}\\n')\n",
    "\n",
    "# running t-test\n",
    "result = stats.ttest_1samp(list(pct_states.values()), 1/51)\n",
    "print(f'P-value: {result.pvalue}, therefore no statistical diff.\\n')\n",
    "\n",
    "# state with most unmatched cities + pct\n",
    "largest_pct = np.max(list(pct_states.values()))\n",
    "largest_st = list(pct_states.keys())[list(pct_states.values()).index(\\\n",
    "                                    largest_pct)]\n",
    "print(f'State with largest pct & pct: {largest_st}, {largest_pct}\\n')\n",
    "\n",
    "# st fips of texas: 48, st fips of california: 06\n",
    "print(finance.loc[(~finance[\"city\"].isin(HMGP_ACS.\\\n",
    "                       city.values))&(finance[\"statefips\"] == 48),:])\n",
    "\n",
    "# dict of states and pcts sorted from small to large\n",
    "sorted_stpct = dict(sorted(pct_states.items(), key=lambda item: item[1]))\n"
   ]
  },
  {
   "cell_type": "markdown",
   "id": "c8592446",
   "metadata": {},
   "source": [
    "## Merging the Datasets\n",
    "The next few cells will merge the datasets by adding the new city finance data to the already matching cities and creating new rows for the mis-matched cities with only their city finance data."
   ]
  },
  {
   "cell_type": "code",
   "execution_count": null,
   "id": "7bdf1134",
   "metadata": {},
   "outputs": [],
   "source": [
    "# \"nice\" merge\n",
    "\n",
    "# defining the columns of interest for \"nice\" merge\n",
    "finance_cols = [\"city_population\",\"city_revpc\",\"city_ownrev\",\"city_tax\",\\\n",
    "                \"city_igrev\",\"city_spend\"]\n",
    "HMGP_ACS_CF = HMGP_ACS.reindex(columns = \\\n",
    "                               HMGP_ACS.columns.tolist() + finance_cols)\n",
    "HMGP_ACS_CF.sort_values([\"city\", \"countyfips\", \"year\"],\\\n",
    "                        inplace=True, ignore_index=True)\n",
    "\n",
    "# merging by city and county\n",
    "nice_finance = finance.loc[(finance[\"year\"].isin(HMGP_ACS.year.values))\\\n",
    "     &(finance[\"countyfips\"].isin(HMGP_ACS.countyfips.values))&\\\n",
    "     (finance[\"city\"].isin(HMGP_ACS.city.values)),:]\n",
    "\n",
    "for city in tqdm(np.unique(nice_finance.city.values), \\\n",
    "                 total = len(np.unique(nice_finance.city.values))):\n",
    "    for fips in np.unique(nice_finance[nice_finance[\"city\"] == city].\\\n",
    "                          countyfips.values):\n",
    "        finance = (nice_finance.loc[(nice_finance[\"city\"] == city)&\\\n",
    "                  (nice_finance[\"countyfips\"] == fips)]).\\\n",
    "                   iloc[:,-len(finance_cols):]\n",
    "        nan_mat = np.empty(2019-2000)\n",
    "        nan_mat[:] = np.NaN\n",
    "        for i, col in enumerate(finance_cols):\n",
    "            HMGP_ACS_CF.loc[(HMGP_ACS_CF[\"city\"] == city)&\\\n",
    "            (HMGP_ACS_CF[\"countyfips\"] == fips),col] \\\n",
    "            = HMGP_ACS_CF.loc[(HMGP_ACS_CF[\"city\"] == city)&\\\n",
    "            (HMGP_ACS_CF[\"countyfips\"] == fips),col].\\\n",
    "            replace([nan_mat],[finance.loc[:,col].values])\n"
   ]
  },
  {
   "cell_type": "code",
   "execution_count": null,
   "id": "c35812ad",
   "metadata": {},
   "outputs": [],
   "source": [
    "# Saving file with \"nice\" merge\n",
    "\n",
    "# reordering rows\n",
    "HMGP_ACS_CF.sort_values([\"city\", \"countyfips\", \"year\"], \\\n",
    "                        inplace=True, ignore_index=True)\n",
    "HMGP_ACS_CF.to_csv('HMGP_ACS_CF_nice1.csv')\n"
   ]
  },
  {
   "cell_type": "code",
   "execution_count": 215,
   "id": "638c188f",
   "metadata": {},
   "outputs": [],
   "source": [
    "# \"not nice\" merge (aka non-matching cities)\n",
    "\n",
    "# reading file\n",
    "HMGP_ACS_CF_final = pd.read_csv('HMGP_ACS_CF_nice.csv')\n",
    "\n",
    "# getting rid of unwanted HMGP columns\n",
    "HMGP_ACS_CF_final.drop([\"Unnamed: 0.1\", \"Unnamed: 0\", \\\n",
    "                        \"fips\", \"stfips\"], inplace = True, axis = 1)\n",
    "\n",
    "# values we'd like to add to HMGP_ACS_CF \n",
    "nn_finance = finance.loc[~(finance[\"countyfips\"].isin(HMGP_ACS.\\\n",
    "    countyfips.values))|~(finance[\"city\"].isin(HMGP_ACS.city.values)),:]\n"
   ]
  },
  {
   "cell_type": "code",
   "execution_count": 216,
   "id": "4a43fba4",
   "metadata": {},
   "outputs": [],
   "source": [
    "# fixing HMGP_ACS_CF and nn_finance columns to best fit not nice data\n",
    "\n",
    "# reordering HMGP columns\n",
    "cols = HMGP_ACS_CF_final.columns.tolist()\n",
    "cols = cols[:-20] + cols[-18:-6] + [cols[-20]] + [cols[-19]] + cols[-6:]\n",
    "cols = cols[:2] + cols[5:-6] + [cols[3]] + [cols[4]] + [cols[2]]\\\n",
    "                                                      + cols[-6:]\n",
    "HMGP_ACS_CF_final = HMGP_ACS_CF_final[cols]\n",
    "\n",
    "# Adding nan columns to nn_finance\n",
    "nan_mat = np.empty(len(nn_finance))\n",
    "nan_mat[:] = np.NaN\n",
    "for i, col in enumerate(HMGP_ACS_CF_final.columns.tolist()[:-10]):\n",
    "    nn_finance.insert(i,col,nan_mat, True)\n"
   ]
  },
  {
   "cell_type": "code",
   "execution_count": 217,
   "id": "cc71118f",
   "metadata": {},
   "outputs": [],
   "source": [
    "# combining both datasets to create final dataset, then reordering\n",
    "\n",
    "# combining datasets with concat\n",
    "HMGP_ACS_CF_final = pd.concat([HMGP_ACS_CF_final, nn_finance],\\\n",
    "                              ignore_index = True)\n",
    "\n",
    "# dropping extra ZCTA5 columns\n",
    "HMGP_ACS_CF_final.drop(\"ZCTA5\", inplace = True, axis = 1)\n",
    "\n",
    "# reordering\n",
    "cols = HMGP_ACS_CF_final.columns.tolist()\n",
    "cols = [cols[0]] + cols[-11:-6] + cols[1:-11] + cols[-6:]\n",
    "HMGP_ACS_CF_final = HMGP_ACS_CF_final[cols]\n"
   ]
  },
  {
   "cell_type": "code",
   "execution_count": 218,
   "id": "36d8e3ff",
   "metadata": {},
   "outputs": [],
   "source": [
    "# Saving file with both \"nice\" and \"not nice\" merge\n",
    "\n",
    "# reordering rows\n",
    "HMGP_ACS_CF_final.sort_values([\"city\", \"countyfips\", \"year\"], \\\n",
    "                        inplace=True, ignore_index=True)\n",
    "HMGP_ACS_CF_final.to_csv('HMGP_ACS_CF.csv')\n"
   ]
  }
 ],
 "metadata": {
  "kernelspec": {
   "display_name": "Python 3 (ipykernel)",
   "language": "python",
   "name": "python3"
  },
  "language_info": {
   "codemirror_mode": {
    "name": "ipython",
    "version": 3
   },
   "file_extension": ".py",
   "mimetype": "text/x-python",
   "name": "python",
   "nbconvert_exporter": "python",
   "pygments_lexer": "ipython3",
   "version": "3.8.8"
  },
  "widgets": {
   "application/vnd.jupyter.widget-state+json": {
    "state": {},
    "version_major": 2,
    "version_minor": 0
   }
  }
 },
 "nbformat": 4,
 "nbformat_minor": 5
}
