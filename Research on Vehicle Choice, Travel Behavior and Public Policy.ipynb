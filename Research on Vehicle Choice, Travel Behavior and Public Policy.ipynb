{
 "cells": [
  {
   "cell_type": "markdown",
   "metadata": {},
   "source": [
    "## Vehicle Choices, Travel Behavior, and Response to Fuel Cost Changes:\n",
    "## &emsp;&emsp;&emsp;&emsp; Evidence from the US National Household Travel Survey"
   ]
  },
  {
   "cell_type": "markdown",
   "metadata": {},
   "source": [
    "<a href=\"#item1\">Vehicle Composition in Single-Vehicle and Multiple-Vehicle Households</a>  \n",
    "<a href=\"#item2\">Vehicle Distribution across Income Groups</a>  \n",
    "<a href=\"#item3\">Tax Burden for Various Income Groups under the Vehicle miles Traveled (VMT) Tax</a>  \n",
    "<a href=\"#item4\">Percentage changes in Vehicle miles Traveled (VMT) and tax revenue with respect to fleet MPG changes.</a>  "
   ]
  },
  {
   "cell_type": "markdown",
   "metadata": {},
   "source": [
    "While the economic theory posits that people drive less when gasoline prices rise, the actual driving behavior could be more complicated and highly heterogeneous depending on other conditions such as incomes, commute need, and vehicle ownership. My research uses the 2009 National Household Travel Survey data (based on a national sample of about 150,000 households) to provide some interesting insights into this question. "
   ]
  },
  {
   "cell_type": "markdown",
   "metadata": {},
   "source": [
    "First, I find that vehicle choices highly correlate with household incomes. Over 70 percent of the households with an annual income below 10,000 dollars have only one vehicle. By contrast, over 94 percent of the households with annual income above 100,000 dollars own multiple vehicles.  "
   ]
  },
  {
   "cell_type": "markdown",
   "metadata": {},
   "source": [
    "Moreover, in households with multiple vehicles, the fleet consisted of a relatively high percentage of light-duty trucks, including pickups, SUVs, and vans. For households with one single vehicle, more than half are smaller passenger cars."
   ]
  },
  {
   "cell_type": "markdown",
   "metadata": {},
   "source": [
    "The next question is how households change their driving demand in response to fuel cost changes. Using regression analysis, I find that single-vehicle households are less sensitiveto fuel cost changes than households with multiple vehicles. This is perhaps not surprising because the latter has more traveling options; for example, when driving becomes more expensive couples may choose to drive one car to go to work instead of driving separate vehicles. These households may deliberately use the more efficient vehicle more often when the gasoline price increases. "
   ]
  },
  {
   "cell_type": "markdown",
   "metadata": {},
   "source": [
    "I also find that when fuel cost increases, households with multiple-vehicles drive significantly less and particularly with their large cars, SUVs, and vans. This is probably because these vehicles are used more often for recreational purposes, which are more flexible in travel demand. In comparison, households with single vehicle do not drive less with their small/medium sized car. They only reduce their driving on SUVs when fuel cost increases. "
   ]
  },
  {
   "cell_type": "markdown",
   "metadata": {},
   "source": [
    "Using these empirical estimates, I also analyze and project the driving responses to a flat vehicle miles traveled tax, which is new policy instrument proposed to replace fuel taxes for financing the nation’s highway and road network. For more details of this paper, please see https://journals.sagepub.com/doi/abs/10.1177/0361198118796737"
   ]
  },
  {
   "cell_type": "markdown",
   "metadata": {},
   "source": [
    "<a id=\"item1\"></a>"
   ]
  },
  {
   "cell_type": "markdown",
   "metadata": {},
   "source": [
    "[Show in separate window](https://github.com/wangyw80/Test-Projects/blob/master/VMT1.jpg?raw=true)\n",
    "![alt text](https://github.com/wangyw80/Test-Projects/blob/master/VMT1.jpg?raw=true \"Table 1\")"
   ]
  },
  {
   "cell_type": "markdown",
   "metadata": {},
   "source": [
    "<a id=\"item2\"></a>"
   ]
  },
  {
   "cell_type": "markdown",
   "metadata": {},
   "source": [
    "[Show in separate window](https://github.com/wangyw80/Test-Projects/blob/master/VMT2.jpg?raw=true)\n",
    "![alt text](https://github.com/wangyw80/Test-Projects/blob/master/VMT2.jpg?raw=true\n",
    "\"Table 2\")"
   ]
  },
  {
   "cell_type": "markdown",
   "metadata": {},
   "source": [
    "<a id=\"item3\"></a>"
   ]
  },
  {
   "cell_type": "markdown",
   "metadata": {},
   "source": [
    "[Show in separate window](https://github.com/wangyw80/Test-Projects/blob/master/VMT3.jpg?raw=true)\n",
    "![alt text](https://github.com/wangyw80/Test-Projects/blob/master/VMT3.jpg?raw=true\n",
    "\"Table 6\")"
   ]
  },
  {
   "cell_type": "markdown",
   "metadata": {},
   "source": [
    "<a id=\"item4\"></a>"
   ]
  },
  {
   "cell_type": "markdown",
   "metadata": {},
   "source": [
    "[Show in separate window](https://github.com/wangyw80/Test-Projects/blob/master/VMT4.jpg?raw=true)\n",
    "![alt text](https://github.com/wangyw80/Test-Projects/blob/master/VMT4.jpg?raw=true\n",
    "\"Figure 1\")"
   ]
  },
  {
   "cell_type": "markdown",
   "metadata": {},
   "source": [
    "If you are unable to see the tables and the figure, please go to [the notebook viewer](https://nbviewer.jupyter.org/github/wangyw80/My-Projects/blob/master/Research%20on%20Vehicle%20Choice%2C%20Travel%20Behavior%20and%20Public%20Policy.ipynb)."
   ]
  },
  {
   "cell_type": "code",
   "execution_count": null,
   "metadata": {},
   "outputs": [],
   "source": []
  },
  {
   "cell_type": "code",
   "execution_count": null,
   "metadata": {},
   "outputs": [],
   "source": []
  }
 ],
 "metadata": {
  "kernelspec": {
   "display_name": "Python 3",
   "language": "python",
   "name": "python3"
  },
  "language_info": {
   "codemirror_mode": {
    "name": "ipython",
    "version": 3
   },
   "file_extension": ".py",
   "mimetype": "text/x-python",
   "name": "python",
   "nbconvert_exporter": "python",
   "pygments_lexer": "ipython3",
   "version": "3.7.3"
  }
 },
 "nbformat": 4,
 "nbformat_minor": 2
}
